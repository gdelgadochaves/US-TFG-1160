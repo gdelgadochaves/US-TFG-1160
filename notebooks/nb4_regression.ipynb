{
 "cells": [
  {
   "cell_type": "markdown",
   "metadata": {},
   "source": [
    "# Sección 1: Regresión por GPU"
   ]
  },
  {
   "cell_type": "markdown",
   "metadata": {},
   "source": [
    "## Carga y tratamiento de datos"
   ]
  },
  {
   "cell_type": "code",
   "execution_count": null,
   "metadata": {},
   "outputs": [],
   "source": [
    "import os\n",
    "import os.path\n",
    "\n",
    "import cudf\n",
    "import cupy as cp\n",
    "import cuml\n",
    "\n",
    "import pandas as pd\n",
    "import numpy as np\n",
    "import sklearn\n",
    "\n",
    "%run ../utils/f_northing.py\n",
    "%run ../utils/f_northing_numpy.py\n",
    "%run ../utils/f_price_range.py\n",
    "%run ../utils/f_static_data.py\n",
    "\n",
    "#cities_to_use = ['sevilla']\n",
    "#cities_to_use = ['shanghai']\n",
    "cities_to_use = cities_to_use()\n",
    "columns_to_use = columns_to_use()\n",
    "#columns_to_fit = ['northing', 'easting']\n",
    "columns_to_fit = columns_to_fit()\n",
    "\n",
    "cuml.set_global_output_type('cudf')"
   ]
  },
  {
   "cell_type": "code",
   "execution_count": null,
   "metadata": {},
   "outputs": [],
   "source": [
    "%%time\n",
    "listings = cudf.DataFrame()\n",
    "\n",
    "for city in cities_to_use:\n",
    "    directory = '../data/' + city + '/'\n",
    "    if os.path.exists(directory):\n",
    "        for file in os.listdir(directory):\n",
    "            if file.endswith('.csv'):\n",
    "                temp_df = cudf.read_csv(directory + file, usecols = columns_to_use)\n",
    "                if(temp_df['host_acceptance_rate'].dtype != 'object'):\n",
    "                    temp_df['host_acceptance_rate'] = temp_df['host_acceptance_rate'].astype('object')\n",
    "                if(temp_df['neighbourhood_cleansed'].dtype != 'object'):\n",
    "                    temp_df['neighbourhood_cleansed'] = temp_df['neighbourhood_cleansed'].astype('object')\n",
    "                if(temp_df['neighbourhood'].dtype != 'object'):\n",
    "                    temp_df['neighbourhood'] = temp_df['neighbourhood'].astype('object')\n",
    "                if(temp_df['host_total_listings_count'].dtype != 'int32'):\n",
    "                    temp_df['host_total_listings_count'] = temp_df['host_total_listings_count'].astype('int32').fillna(-1)\n",
    "                if(temp_df['bathrooms'].dtype != 'int32'):\n",
    "                    temp_df['bathrooms'] = temp_df['bathrooms'].astype('int32').fillna(-1)\n",
    "                if(temp_df['bedrooms'].dtype != 'int32'):\n",
    "                    temp_df['bedrooms'] = temp_df['bedrooms'].astype('int32').fillna(-1)\n",
    "                if(temp_df['beds'].dtype != 'int32'):\n",
    "                    temp_df['beds'] = temp_df['beds'].astype('int32').fillna(-1)\n",
    "                if listings.size == 0:\n",
    "                    listings = temp_df\n",
    "                else:\n",
    "                    for column in listings.columns:\n",
    "                        if listings[column].dtype != temp_df[column].dtype:\n",
    "                            print('Found error: '+column+' type '+listings[column].dtype.name+' doesnt match '+temp_df[column].dtype.name)\n",
    "                    listings = listings.append(temp_df)\n",
    "                    \n",
    "listings = listings.drop_duplicates().reset_index(drop=True)\n",
    "\n",
    "listings['accommodates'] = listings['accommodates'].astype('int32').fillna(-1)\n",
    "listings['number_of_reviews'] = listings['number_of_reviews'].astype('int32').fillna(-1)\n",
    "listings['reviews_per_month'] = listings['reviews_per_month'].astype('float32').fillna(-1.0)\n",
    "\n",
    "listings['neighbourhood'], neighborhood_names = listings['neighbourhood'].factorize()\n",
    "listings['neighbourhood_cleansed'], neighborhood_names = listings['neighbourhood_cleansed'].factorize()\n",
    "listings['host_response_time'], host_response_time = listings['host_response_time'].factorize()\n",
    "listings['host_is_superhost'], host_is_superhost = listings['host_is_superhost'].factorize()\n",
    "listings['host_has_profile_pic'], host_has_profile_pic = listings['host_has_profile_pic'].factorize()\n",
    "listings['host_identity_verified'], host_identity_verified = listings['host_identity_verified'].factorize()\n",
    "listings['property_type'], property_type = listings['property_type'].factorize()\n",
    "listings['room_type'], room_type = listings['room_type'].factorize()\n",
    "\n",
    "listings['host_response_rate'] = listings['host_response_rate'].str.replace('%', '').fillna('-1').astype('int8')\n",
    "listings['host_acceptance_rate'] = listings['host_acceptance_rate'].str.replace('%', '').fillna('-1').astype('int8')\n",
    "listings['price'] = listings['price'].str.replace(['$', ','], '').astype('float32').applymap(priceRange, 'float32')\n",
    "\n",
    "cupy_lat = cp.asarray(listings['latitude'])\n",
    "cupy_long = cp.asarray(listings['longitude'])\n",
    "n_cupy_array, e_cupy_array = latlong2osgbgrid_cupy(cupy_lat, cupy_long)\n",
    "listings['northing'] = cudf.Series(n_cupy_array).astype('float32')\n",
    "listings['easting'] = cudf.Series(e_cupy_array).astype('float32')\n",
    "\n",
    "listings.head()"
   ]
  },
  {
   "cell_type": "markdown",
   "metadata": {},
   "source": [
    "## Aplicación de modelo de regresión para predicción de valores"
   ]
  },
  {
   "cell_type": "code",
   "execution_count": null,
   "metadata": {},
   "outputs": [],
   "source": [
    "%%time\n",
    "regression = cuml.LinearRegression()\n",
    "#regression = cuml.LogisticRegression()\n",
    "#regression = cuml.Ridge()\n",
    "x_train, x_test, y_train, y_test  = cuml.train_test_split(listings[columns_to_fit], listings['price'], train_size=0.9)\n",
    "x_test_index = x_test.reset_index(drop=True)\n",
    "y_test_index = y_test.reset_index(drop=True)\n",
    "regression.fit(x_train, y_train)"
   ]
  },
  {
   "cell_type": "markdown",
   "metadata": {},
   "source": [
    "Visualización de coeficientes y valor de intercepción tras el entrenamiento"
   ]
  },
  {
   "cell_type": "code",
   "execution_count": null,
   "metadata": {
    "scrolled": true
   },
   "outputs": [],
   "source": [
    "coef_map = cudf.DataFrame()\n",
    "coef_map['key'] = columns_to_fit\n",
    "coef_map['value'] = regression.coef_\n",
    "print(\"Coefficients:\")\n",
    "coef_map\n",
    "\n",
    "#print(\"Intercept:\")\n",
    "#print(regression.intercept_)"
   ]
  },
  {
   "cell_type": "markdown",
   "metadata": {},
   "source": [
    "Visualización de predicciones"
   ]
  },
  {
   "cell_type": "code",
   "execution_count": null,
   "metadata": {},
   "outputs": [],
   "source": [
    "%%time\n",
    "predictions = regression.predict(x_test_index)\n",
    "y_results = cudf.DataFrame()\n",
    "y_results['prediction'] = predictions\n",
    "y_results['real'] = y_test_index\n",
    "y_results[0:10]"
   ]
  },
  {
   "cell_type": "markdown",
   "metadata": {},
   "source": [
    "# Sección 2: Regresión por CPU"
   ]
  },
  {
   "cell_type": "markdown",
   "metadata": {},
   "source": [
    "## Carga y tratamiento de datos"
   ]
  },
  {
   "cell_type": "code",
   "execution_count": null,
   "metadata": {},
   "outputs": [],
   "source": [
    "%%time\n",
    "listings_cpu = pd.DataFrame()\n",
    "\n",
    "for city in cities_to_use:\n",
    "    directory = '../data/' + city + '/'\n",
    "    if os.path.exists(directory):\n",
    "        for file in os.listdir(directory):\n",
    "            if file.endswith('.csv'):\n",
    "                temp_df_cpu = pd.read_csv(directory + file, usecols = columns_to_use)\n",
    "                if 'price' in temp_df.columns:\n",
    "                    if(temp_df_cpu['host_acceptance_rate'].dtype != 'object'):\n",
    "                        temp_df_cpu['host_acceptance_rate'] = temp_df_cpu['host_acceptance_rate'].astype('object')\n",
    "                    if(temp_df_cpu['neighbourhood_cleansed'].dtype != 'object'):\n",
    "                        temp_df_cpu['neighbourhood_cleansed'] = temp_df_cpu['neighbourhood_cleansed'].astype('object')\n",
    "                    if listings_cpu.size == 0:\n",
    "                        listings_cpu = temp_df_cpu\n",
    "                    else:\n",
    "                        for column in listings_cpu.columns:\n",
    "                            if listings_cpu[column].dtype != temp_df_cpu[column].dtype:\n",
    "                                print('Found error: '+column+' type '+listings_cpu[column].dtype.name+' doesnt match '+temp_df_cpu[column].dtype.name)\n",
    "                        listings_cpu = listings_cpu.append(temp_df_cpu)\n",
    "                    \n",
    "listings_cpu = listings_cpu.drop_duplicates().reset_index(drop=True)\n",
    "\n",
    "listings_cpu['accommodates'] = listings_cpu['accommodates'].astype('int32')\n",
    "listings_cpu['number_of_reviews'] = listings_cpu['number_of_reviews'].astype('int32')\n",
    "listings_cpu['reviews_per_month'] = listings_cpu['reviews_per_month'].astype('float32').fillna(-1.0)\n",
    "listings_cpu['neighbourhood_cleansed'], neighborhood_names = listings_cpu['neighbourhood_cleansed'].factorize()\n",
    "\n",
    "listings_cpu['host_response_rate'] = listings_cpu['host_response_rate'].fillna('-1').str.replace('%', '').astype('int32')\n",
    "listings_cpu['host_acceptance_rate'] = listings_cpu['host_acceptance_rate'].fillna('-1').str.replace('%', '').astype('int32')\n",
    "listings_cpu['price'] = listings_cpu['price'].fillna('-1').str.replace('$', '').str.replace(',', '').astype('float32')\n",
    "\n",
    "numpy_lat = listings_cpu['latitude'].to_numpy()\n",
    "numpy_long = listings_cpu['longitude'].to_numpy()\n",
    "n_numpy_array, e_numpy_array = latlong2osgbgrid_numpy(numpy_lat, numpy_long)\n",
    "listings_cpu['northing'] = pd.Series(n_numpy_array).astype('float32')\n",
    "listings_cpu['easting'] = pd.Series(e_numpy_array).astype('float32')\n",
    "listings_cpu.head()"
   ]
  },
  {
   "cell_type": "markdown",
   "metadata": {},
   "source": [
    "## Aplicación de modelo de regresión"
   ]
  },
  {
   "cell_type": "code",
   "execution_count": null,
   "metadata": {},
   "outputs": [],
   "source": [
    "%%time\n",
    "linreg_cpu = LinearRegression()\n",
    "x_train_cpu, x_test_cpu, y_train_cpu, y_test_cpu  = train_test_split(listings_cpu[['northing', 'easting']], listings_cpu['price'], train_size=0.9)\n",
    "x_test_cpu_index = x_test_cpu.reset_index(drop=True)\n",
    "y_test_cpu_index = y_test_cpu.reset_index(drop=True)\n",
    "linreg_cpu.fit(x_train_cpu, y_train_cpu)"
   ]
  },
  {
   "cell_type": "code",
   "execution_count": null,
   "metadata": {},
   "outputs": [],
   "source": [
    "print(\"Coefficients: [easting, northing]\")\n",
    "print([linreg_cpu.coef_[0], linreg_cpu.coef_[1]])\n",
    "\n",
    "print(\"Intercept:\")\n",
    "print(linreg_cpu.intercept_)"
   ]
  },
  {
   "cell_type": "code",
   "execution_count": null,
   "metadata": {},
   "outputs": [],
   "source": [
    "%%time\n",
    "predictions_cpu = linreg_cpu.predict(x_test_cpu_index)\n",
    "predictions_cpu[0:5]"
   ]
  },
  {
   "cell_type": "code",
   "execution_count": null,
   "metadata": {},
   "outputs": [],
   "source": [
    "y_test_cpu_index.head()"
   ]
  },
  {
   "cell_type": "code",
   "execution_count": null,
   "metadata": {},
   "outputs": [],
   "source": []
  }
 ],
 "metadata": {
  "kernelspec": {
   "display_name": "Python 3",
   "language": "python",
   "name": "python3"
  },
  "language_info": {
   "codemirror_mode": {
    "name": "ipython",
    "version": 3
   },
   "file_extension": ".py",
   "mimetype": "text/x-python",
   "name": "python",
   "nbconvert_exporter": "python",
   "pygments_lexer": "ipython3",
   "version": "3.8.6"
  }
 },
 "nbformat": 4,
 "nbformat_minor": 4
}
