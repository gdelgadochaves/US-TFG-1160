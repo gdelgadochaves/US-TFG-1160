{
 "cells": [
  {
   "cell_type": "code",
   "execution_count": 1,
   "metadata": {},
   "outputs": [],
   "source": [
    "import os\n",
    "import os.path\n",
    "\n",
    "import cudf\n",
    "import cupy as cp\n",
    "import cuml\n",
    "from cuml.linear_model import LogisticRegression, MBSGDClassifier, MBSGDRegressor\n",
    "from cuml.multiclass import MulticlassClassifier\n",
    "from cuml.naive_bayes import MultinomialNB\n",
    "from cuml.ensemble import RandomForestClassifier\n",
    "from cuml.svm import SVC\n",
    "from cuml.metrics.regression import mean_squared_error as mnsq\n",
    "\n",
    "import pandas as pd\n",
    "import numpy as np\n",
    "import sklearn\n",
    "from sklearn.model_selection import train_test_split\n",
    "from sklearn.metrics import mean_squared_error as mnsq_cpu\n",
    "\n",
    "%run ../utils/f_northing.py\n",
    "%run ../utils/f_northing_numpy.py\n",
    "%run ../utils/f_price_range.py\n",
    "%run ../utils/f_static_data.py\n",
    "%run ../utils/f_utils.py\n",
    "\n",
    "cuml.set_global_output_type('cudf')"
   ]
  },
  {
   "cell_type": "markdown",
   "metadata": {},
   "source": [
    "Parece ser que la operación sort de cupy (basada en numpy.sort) tiene un límite estricto de elementos, ya sea por tamaño o por memoria disponible."
   ]
  },
  {
   "cell_type": "markdown",
   "metadata": {},
   "source": [
    "Creamos un par (X,y) con exactamente 5405 filas y ejecutamos un clasificador RandomForest (en este caso binario):"
   ]
  },
  {
   "cell_type": "code",
   "execution_count": 2,
   "metadata": {},
   "outputs": [
    {
     "name": "stdout",
     "output_type": "stream",
     "text": [
      "Predicted labels :  0    0.0\n",
      "1    0.0\n",
      "2    0.0\n",
      "3    0.0\n",
      "4    0.0\n",
      "5    1.0\n",
      "6    1.0\n",
      "7    0.0\n",
      "8    0.0\n",
      "9    1.0\n",
      "dtype: float32\n",
      "Real :  [[0]\n",
      " [1]\n",
      " [1]\n",
      " [0]\n",
      " [0]\n",
      " [1]\n",
      " [1]\n",
      " [1]\n",
      " [1]\n",
      " [0]]\n"
     ]
    }
   ],
   "source": [
    "X = cp.random.normal(size=(5405,4)).astype(np.float32)\n",
    "y = cp.random.randint(2,size=(5405,1)).astype(np.int32)\n",
    "\n",
    "cuml_model = RandomForestClassifier(max_features=1.0,\n",
    "                   n_bins=8,\n",
    "                   n_estimators=40)\n",
    "\n",
    "x_train, x_test, y_train, y_test  = cuml.train_test_split(X, y, train_size=0.9)\n",
    "\n",
    "cuml_model.fit(x_train,y_train)\n",
    "cuml_predict = cuml_model.predict(x_test)\n",
    "\n",
    "print(\"Predicted labels : \", cuml_predict[0:10])\n",
    "print(\"Real : \", y_test[0:10])"
   ]
  },
  {
   "cell_type": "markdown",
   "metadata": {},
   "source": [
    "Ejecutamos el mismo clasificador con una fila más:"
   ]
  },
  {
   "cell_type": "code",
   "execution_count": 3,
   "metadata": {},
   "outputs": [
    {
     "ename": "RuntimeError",
     "evalue": "CUDA error encountered at: file=/opt/conda/envs/rapids/conda-bld/libcuml_1614210250760/work/cpp/src/decisiontree/quantile/quantile.cuh line=150: call='cub::DeviceRadixSort::SortKeys( (void *)d_temp_storage->data(), temp_storage_bytes, &d_keys_in[batch_offset], d_keys_out->data(), n_sampled_rows, 0, 8 * sizeof(T), tempmem->stream)', Reason=cudaErrorInvalidValue:invalid argument\nObtained 64 stack frames\n#0 in /home/gondelcha/anaconda3/envs/rapids-0.18/lib/python3.8/site-packages/cuml/common/../../../../libcuml++.so(_ZN4raft9exception18collect_call_stackEv+0x46) [0x7f7e7d6fff36]\n#1 in /home/gondelcha/anaconda3/envs/rapids-0.18/lib/python3.8/site-packages/cuml/common/../../../../libcuml++.so(_ZN4raft10cuda_errorC1ERKNSt7__cxx1112basic_stringIcSt11char_traitsIcESaIcEEE+0x69) [0x7f7e7d700699]\n#2 in /home/gondelcha/anaconda3/envs/rapids-0.18/lib/python3.8/site-packages/cuml/common/../../../../libcuml++.so(_ZN2ML12DecisionTree19preprocess_quantileIfiEEvPKT_PKjiiiiSt10shared_ptrI15TemporaryMemoryIS2_T0_EE+0xaaf) [0x7f7e7d80fa7f]\n#3 in /home/gondelcha/anaconda3/envs/rapids-0.18/lib/python3.8/site-packages/cuml/common/../../../../libcuml++.so(_ZN2ML12rfClassifierIfE3fitERKN4raft8handle_tEPKfiiPiiRPNS_20RandomForestMetaDataIfiEE+0xde3) [0x7f7e7da45b63]\n#4 in /home/gondelcha/anaconda3/envs/rapids-0.18/lib/python3.8/site-packages/cuml/common/../../../../libcuml++.so(_ZN2ML3fitERKN4raft8handle_tERPNS_20RandomForestMetaDataIfiEEPfiiPiiNS_9RF_paramsEi+0x1fd) [0x7f7e7da4054d]\n#5 in /home/gondelcha/anaconda3/envs/rapids-0.18/lib/python3.8/site-packages/cuml/ensemble/randomforestclassifier.cpython-38-x86_64-linux-gnu.so(+0x3c7e5) [0x7f7e548527e5]\n#6 in /home/gondelcha/anaconda3/envs/rapids-0.18/bin/python(PyObject_Call+0x255) [0x557f50dca2b5]\n#7 in /home/gondelcha/anaconda3/envs/rapids-0.18/bin/python(_PyEval_EvalFrameDefault+0x21c1) [0x557f50e76de1]\n#8 in /home/gondelcha/anaconda3/envs/rapids-0.18/bin/python(_PyEval_EvalCodeWithName+0x2c3) [0x557f50e55503]\n#9 in /home/gondelcha/anaconda3/envs/rapids-0.18/bin/python(+0x1b2007) [0x557f50e57007]\n#10 in /home/gondelcha/anaconda3/envs/rapids-0.18/bin/python(_PyEval_EvalFrameDefault+0x4ca3) [0x557f50e798c3]\n#11 in /home/gondelcha/anaconda3/envs/rapids-0.18/bin/python(_PyEval_EvalCodeWithName+0x2c3) [0x557f50e55503]\n#12 in /home/gondelcha/anaconda3/envs/rapids-0.18/bin/python(PyEval_EvalCodeEx+0x39) [0x557f50e56559]\n#13 in /home/gondelcha/anaconda3/envs/rapids-0.18/bin/python(PyEval_EvalCode+0x1b) [0x557f50ef99ab]\n#14 in /home/gondelcha/anaconda3/envs/rapids-0.18/bin/python(+0x2731de) [0x557f50f181de]\n#15 in /home/gondelcha/anaconda3/envs/rapids-0.18/bin/python(+0x128d4b) [0x557f50dcdd4b]\n#16 in /home/gondelcha/anaconda3/envs/rapids-0.18/bin/python(_PyEval_EvalFrameDefault+0x92f) [0x557f50e7554f]\n#17 in /home/gondelcha/anaconda3/envs/rapids-0.18/bin/python(+0x182ea3) [0x557f50e27ea3]\n#18 in /home/gondelcha/anaconda3/envs/rapids-0.18/bin/python(_PyEval_EvalFrameDefault+0x1d37) [0x557f50e76957]\n#19 in /home/gondelcha/anaconda3/envs/rapids-0.18/bin/python(+0x182ea3) [0x557f50e27ea3]\n#20 in /home/gondelcha/anaconda3/envs/rapids-0.18/bin/python(_PyEval_EvalFrameDefault+0x1d37) [0x557f50e76957]\n#21 in /home/gondelcha/anaconda3/envs/rapids-0.18/bin/python(+0x182ea3) [0x557f50e27ea3]\n#22 in /home/gondelcha/anaconda3/envs/rapids-0.18/bin/python(+0x1958c9) [0x557f50e3a8c9]\n#23 in /home/gondelcha/anaconda3/envs/rapids-0.18/bin/python(_PyEval_EvalFrameDefault+0xa4b) [0x557f50e7566b]\n#24 in /home/gondelcha/anaconda3/envs/rapids-0.18/bin/python(_PyFunction_Vectorcall+0x1a6) [0x557f50e56706]\n#25 in /home/gondelcha/anaconda3/envs/rapids-0.18/bin/python(_PyEval_EvalFrameDefault+0x92f) [0x557f50e7554f]\n#26 in /home/gondelcha/anaconda3/envs/rapids-0.18/bin/python(_PyFunction_Vectorcall+0x1a6) [0x557f50e56706]\n#27 in /home/gondelcha/anaconda3/envs/rapids-0.18/bin/python(_PyEval_EvalFrameDefault+0xa4b) [0x557f50e7566b]\n#28 in /home/gondelcha/anaconda3/envs/rapids-0.18/bin/python(_PyEval_EvalCodeWithName+0x2c3) [0x557f50e55503]\n#29 in /home/gondelcha/anaconda3/envs/rapids-0.18/bin/python(_PyFunction_Vectorcall+0x378) [0x557f50e568d8]\n#30 in /home/gondelcha/anaconda3/envs/rapids-0.18/bin/python(+0x1b1f91) [0x557f50e56f91]\n#31 in /home/gondelcha/anaconda3/envs/rapids-0.18/bin/python(PyObject_Call+0x5e) [0x557f50dca0be]\n#32 in /home/gondelcha/anaconda3/envs/rapids-0.18/bin/python(_PyEval_EvalFrameDefault+0x21c1) [0x557f50e76de1]\n#33 in /home/gondelcha/anaconda3/envs/rapids-0.18/bin/python(_PyEval_EvalCodeWithName+0x2c3) [0x557f50e55503]\n#34 in /home/gondelcha/anaconda3/envs/rapids-0.18/bin/python(+0x1b2007) [0x557f50e57007]\n#35 in /home/gondelcha/anaconda3/envs/rapids-0.18/bin/python(_PyEval_EvalFrameDefault+0x1782) [0x557f50e763a2]\n#36 in /home/gondelcha/anaconda3/envs/rapids-0.18/bin/python(+0x1925da) [0x557f50e375da]\n#37 in /home/gondelcha/anaconda3/envs/rapids-0.18/bin/python(+0x128d4b) [0x557f50dcdd4b]\n#38 in /home/gondelcha/anaconda3/envs/rapids-0.18/bin/python(+0x13b3ea) [0x557f50de03ea]\n#39 in /home/gondelcha/anaconda3/envs/rapids-0.18/bin/python(+0x21da4f) [0x557f50ec2a4f]\n#40 in /home/gondelcha/anaconda3/envs/rapids-0.18/bin/python(+0x128fc2) [0x557f50dcdfc2]\n#41 in /home/gondelcha/anaconda3/envs/rapids-0.18/bin/python(_PyEval_EvalFrameDefault+0x92f) [0x557f50e7554f]\n#42 in /home/gondelcha/anaconda3/envs/rapids-0.18/bin/python(_PyEval_EvalCodeWithName+0x2c3) [0x557f50e55503]\n#43 in /home/gondelcha/anaconda3/envs/rapids-0.18/bin/python(_PyFunction_Vectorcall+0x378) [0x557f50e568d8]\n#44 in /home/gondelcha/anaconda3/envs/rapids-0.18/bin/python(_PyEval_EvalFrameDefault+0xa4b) [0x557f50e7566b]\n#45 in /home/gondelcha/anaconda3/envs/rapids-0.18/bin/python(+0x1925da) [0x557f50e375da]\n#46 in /home/gondelcha/anaconda3/envs/rapids-0.18/bin/python(+0x128d4b) [0x557f50dcdd4b]\n#47 in /home/gondelcha/anaconda3/envs/rapids-0.18/bin/python(+0x13b3ea) [0x557f50de03ea]\n#48 in /home/gondelcha/anaconda3/envs/rapids-0.18/bin/python(+0x21da4f) [0x557f50ec2a4f]\n#49 in /home/gondelcha/anaconda3/envs/rapids-0.18/bin/python(+0x128fc2) [0x557f50dcdfc2]\n#50 in /home/gondelcha/anaconda3/envs/rapids-0.18/bin/python(_PyEval_EvalFrameDefault+0x92f) [0x557f50e7554f]\n#51 in /home/gondelcha/anaconda3/envs/rapids-0.18/bin/python(_PyEval_EvalCodeWithName+0x2c3) [0x557f50e55503]\n#52 in /home/gondelcha/anaconda3/envs/rapids-0.18/bin/python(+0x1b2007) [0x557f50e57007]\n#53 in /home/gondelcha/anaconda3/envs/rapids-0.18/bin/python(_PyEval_EvalFrameDefault+0x92f) [0x557f50e7554f]\n#54 in /home/gondelcha/anaconda3/envs/rapids-0.18/bin/python(+0x1925da) [0x557f50e375da]\n#55 in /home/gondelcha/anaconda3/envs/rapids-0.18/bin/python(+0x128d4b) [0x557f50dcdd4b]\n#56 in /home/gondelcha/anaconda3/envs/rapids-0.18/bin/python(+0x13b3ea) [0x557f50de03ea]\n#57 in /home/gondelcha/anaconda3/envs/rapids-0.18/bin/python(+0x21da4f) [0x557f50ec2a4f]\n#58 in /home/gondelcha/anaconda3/envs/rapids-0.18/bin/python(+0x128fc2) [0x557f50dcdfc2]\n#59 in /home/gondelcha/anaconda3/envs/rapids-0.18/bin/python(_PyEval_EvalFrameDefault+0x92f) [0x557f50e7554f]\n#60 in /home/gondelcha/anaconda3/envs/rapids-0.18/bin/python(_PyEval_EvalCodeWithName+0x2c3) [0x557f50e55503]\n#61 in /home/gondelcha/anaconda3/envs/rapids-0.18/bin/python(_PyFunction_Vectorcall+0x378) [0x557f50e568d8]\n#62 in /home/gondelcha/anaconda3/envs/rapids-0.18/bin/python(+0x1b1f91) [0x557f50e56f91]\n#63 in /home/gondelcha/anaconda3/envs/rapids-0.18/bin/python(PyObject_Call+0x5e) [0x557f50dca0be]\n",
     "output_type": "error",
     "traceback": [
      "\u001b[0;31m---------------------------------------------------------------------------\u001b[0m",
      "\u001b[0;31mRuntimeError\u001b[0m                              Traceback (most recent call last)",
      "\u001b[0;32m<ipython-input-3-c14aab1405e3>\u001b[0m in \u001b[0;36m<module>\u001b[0;34m\u001b[0m\n\u001b[1;32m      9\u001b[0m \u001b[0mx_train\u001b[0m\u001b[0;34m,\u001b[0m \u001b[0mx_test\u001b[0m\u001b[0;34m,\u001b[0m \u001b[0my_train\u001b[0m\u001b[0;34m,\u001b[0m \u001b[0my_test\u001b[0m  \u001b[0;34m=\u001b[0m \u001b[0mcuml\u001b[0m\u001b[0;34m.\u001b[0m\u001b[0mtrain_test_split\u001b[0m\u001b[0;34m(\u001b[0m\u001b[0mX\u001b[0m\u001b[0;34m,\u001b[0m \u001b[0my\u001b[0m\u001b[0;34m,\u001b[0m \u001b[0mtrain_size\u001b[0m\u001b[0;34m=\u001b[0m\u001b[0;36m0.9\u001b[0m\u001b[0;34m)\u001b[0m\u001b[0;34m\u001b[0m\u001b[0;34m\u001b[0m\u001b[0m\n\u001b[1;32m     10\u001b[0m \u001b[0;34m\u001b[0m\u001b[0m\n\u001b[0;32m---> 11\u001b[0;31m \u001b[0mcuml_model\u001b[0m\u001b[0;34m.\u001b[0m\u001b[0mfit\u001b[0m\u001b[0;34m(\u001b[0m\u001b[0mx_train\u001b[0m\u001b[0;34m,\u001b[0m\u001b[0my_train\u001b[0m\u001b[0;34m)\u001b[0m\u001b[0;34m\u001b[0m\u001b[0;34m\u001b[0m\u001b[0m\n\u001b[0m\u001b[1;32m     12\u001b[0m \u001b[0mcuml_predict\u001b[0m \u001b[0;34m=\u001b[0m \u001b[0mcuml_model\u001b[0m\u001b[0;34m.\u001b[0m\u001b[0mpredict\u001b[0m\u001b[0;34m(\u001b[0m\u001b[0mx_test\u001b[0m\u001b[0;34m)\u001b[0m\u001b[0;34m\u001b[0m\u001b[0;34m\u001b[0m\u001b[0m\n\u001b[1;32m     13\u001b[0m \u001b[0;34m\u001b[0m\u001b[0m\n",
      "\u001b[0;32m~/anaconda3/envs/rapids-0.18/lib/python3.8/site-packages/cuml/internals/api_decorators.py\u001b[0m in \u001b[0;36minner_with_setters\u001b[0;34m(*args, **kwargs)\u001b[0m\n\u001b[1;32m    408\u001b[0m                                 target_val=target_val)\n\u001b[1;32m    409\u001b[0m \u001b[0;34m\u001b[0m\u001b[0m\n\u001b[0;32m--> 410\u001b[0;31m                 \u001b[0;32mreturn\u001b[0m \u001b[0mfunc\u001b[0m\u001b[0;34m(\u001b[0m\u001b[0;34m*\u001b[0m\u001b[0margs\u001b[0m\u001b[0;34m,\u001b[0m \u001b[0;34m**\u001b[0m\u001b[0mkwargs\u001b[0m\u001b[0;34m)\u001b[0m\u001b[0;34m\u001b[0m\u001b[0;34m\u001b[0m\u001b[0m\n\u001b[0m\u001b[1;32m    411\u001b[0m \u001b[0;34m\u001b[0m\u001b[0m\n\u001b[1;32m    412\u001b[0m         \u001b[0;34m@\u001b[0m\u001b[0mwraps\u001b[0m\u001b[0;34m(\u001b[0m\u001b[0mfunc\u001b[0m\u001b[0;34m)\u001b[0m\u001b[0;34m\u001b[0m\u001b[0;34m\u001b[0m\u001b[0m\n",
      "\u001b[0;32mcuml/ensemble/randomforestclassifier.pyx\u001b[0m in \u001b[0;36mcuml.ensemble.randomforestclassifier.RandomForestClassifier.fit\u001b[0;34m()\u001b[0m\n",
      "\u001b[0;31mRuntimeError\u001b[0m: CUDA error encountered at: file=/opt/conda/envs/rapids/conda-bld/libcuml_1614210250760/work/cpp/src/decisiontree/quantile/quantile.cuh line=150: call='cub::DeviceRadixSort::SortKeys( (void *)d_temp_storage->data(), temp_storage_bytes, &d_keys_in[batch_offset], d_keys_out->data(), n_sampled_rows, 0, 8 * sizeof(T), tempmem->stream)', Reason=cudaErrorInvalidValue:invalid argument\nObtained 64 stack frames\n#0 in /home/gondelcha/anaconda3/envs/rapids-0.18/lib/python3.8/site-packages/cuml/common/../../../../libcuml++.so(_ZN4raft9exception18collect_call_stackEv+0x46) [0x7f7e7d6fff36]\n#1 in /home/gondelcha/anaconda3/envs/rapids-0.18/lib/python3.8/site-packages/cuml/common/../../../../libcuml++.so(_ZN4raft10cuda_errorC1ERKNSt7__cxx1112basic_stringIcSt11char_traitsIcESaIcEEE+0x69) [0x7f7e7d700699]\n#2 in /home/gondelcha/anaconda3/envs/rapids-0.18/lib/python3.8/site-packages/cuml/common/../../../../libcuml++.so(_ZN2ML12DecisionTree19preprocess_quantileIfiEEvPKT_PKjiiiiSt10shared_ptrI15TemporaryMemoryIS2_T0_EE+0xaaf) [0x7f7e7d80fa7f]\n#3 in /home/gondelcha/anaconda3/envs/rapids-0.18/lib/python3.8/site-packages/cuml/common/../../../../libcuml++.so(_ZN2ML12rfClassifierIfE3fitERKN4raft8handle_tEPKfiiPiiRPNS_20RandomForestMetaDataIfiEE+0xde3) [0x7f7e7da45b63]\n#4 in /home/gondelcha/anaconda3/envs/rapids-0.18/lib/python3.8/site-packages/cuml/common/../../../../libcuml++.so(_ZN2ML3fitERKN4raft8handle_tERPNS_20RandomForestMetaDataIfiEEPfiiPiiNS_9RF_paramsEi+0x1fd) [0x7f7e7da4054d]\n#5 in /home/gondelcha/anaconda3/envs/rapids-0.18/lib/python3.8/site-packages/cuml/ensemble/randomforestclassifier.cpython-38-x86_64-linux-gnu.so(+0x3c7e5) [0x7f7e548527e5]\n#6 in /home/gondelcha/anaconda3/envs/rapids-0.18/bin/python(PyObject_Call+0x255) [0x557f50dca2b5]\n#7 in /home/gondelcha/anaconda3/envs/rapids-0.18/bin/python(_PyEval_EvalFrameDefault+0x21c1) [0x557f50e76de1]\n#8 in /home/gondelcha/anaconda3/envs/rapids-0.18/bin/python(_PyEval_EvalCodeWithName+0x2c3) [0x557f50e55503]\n#9 in /home/gondelcha/anaconda3/envs/rapids-0.18/bin/python(+0x1b2007) [0x557f50e57007]\n#10 in /home/gondelcha/anaconda3/envs/rapids-0.18/bin/python(_PyEval_EvalFrameDefault+0x4ca3) [0x557f50e798c3]\n#11 in /home/gondelcha/anaconda3/envs/rapids-0.18/bin/python(_PyEval_EvalCodeWithName+0x2c3) [0x557f50e55503]\n#12 in /home/gondelcha/anaconda3/envs/rapids-0.18/bin/python(PyEval_EvalCodeEx+0x39) [0x557f50e56559]\n#13 in /home/gondelcha/anaconda3/envs/rapids-0.18/bin/python(PyEval_EvalCode+0x1b) [0x557f50ef99ab]\n#14 in /home/gondelcha/anaconda3/envs/rapids-0.18/bin/python(+0x2731de) [0x557f50f181de]\n#15 in /home/gondelcha/anaconda3/envs/rapids-0.18/bin/python(+0x128d4b) [0x557f50dcdd4b]\n#16 in /home/gondelcha/anaconda3/envs/rapids-0.18/bin/python(_PyEval_EvalFrameDefault+0x92f) [0x557f50e7554f]\n#17 in /home/gondelcha/anaconda3/envs/rapids-0.18/bin/python(+0x182ea3) [0x557f50e27ea3]\n#18 in /home/gondelcha/anaconda3/envs/rapids-0.18/bin/python(_PyEval_EvalFrameDefault+0x1d37) [0x557f50e76957]\n#19 in /home/gondelcha/anaconda3/envs/rapids-0.18/bin/python(+0x182ea3) [0x557f50e27ea3]\n#20 in /home/gondelcha/anaconda3/envs/rapids-0.18/bin/python(_PyEval_EvalFrameDefault+0x1d37) [0x557f50e76957]\n#21 in /home/gondelcha/anaconda3/envs/rapids-0.18/bin/python(+0x182ea3) [0x557f50e27ea3]\n#22 in /home/gondelcha/anaconda3/envs/rapids-0.18/bin/python(+0x1958c9) [0x557f50e3a8c9]\n#23 in /home/gondelcha/anaconda3/envs/rapids-0.18/bin/python(_PyEval_EvalFrameDefault+0xa4b) [0x557f50e7566b]\n#24 in /home/gondelcha/anaconda3/envs/rapids-0.18/bin/python(_PyFunction_Vectorcall+0x1a6) [0x557f50e56706]\n#25 in /home/gondelcha/anaconda3/envs/rapids-0.18/bin/python(_PyEval_EvalFrameDefault+0x92f) [0x557f50e7554f]\n#26 in /home/gondelcha/anaconda3/envs/rapids-0.18/bin/python(_PyFunction_Vectorcall+0x1a6) [0x557f50e56706]\n#27 in /home/gondelcha/anaconda3/envs/rapids-0.18/bin/python(_PyEval_EvalFrameDefault+0xa4b) [0x557f50e7566b]\n#28 in /home/gondelcha/anaconda3/envs/rapids-0.18/bin/python(_PyEval_EvalCodeWithName+0x2c3) [0x557f50e55503]\n#29 in /home/gondelcha/anaconda3/envs/rapids-0.18/bin/python(_PyFunction_Vectorcall+0x378) [0x557f50e568d8]\n#30 in /home/gondelcha/anaconda3/envs/rapids-0.18/bin/python(+0x1b1f91) [0x557f50e56f91]\n#31 in /home/gondelcha/anaconda3/envs/rapids-0.18/bin/python(PyObject_Call+0x5e) [0x557f50dca0be]\n#32 in /home/gondelcha/anaconda3/envs/rapids-0.18/bin/python(_PyEval_EvalFrameDefault+0x21c1) [0x557f50e76de1]\n#33 in /home/gondelcha/anaconda3/envs/rapids-0.18/bin/python(_PyEval_EvalCodeWithName+0x2c3) [0x557f50e55503]\n#34 in /home/gondelcha/anaconda3/envs/rapids-0.18/bin/python(+0x1b2007) [0x557f50e57007]\n#35 in /home/gondelcha/anaconda3/envs/rapids-0.18/bin/python(_PyEval_EvalFrameDefault+0x1782) [0x557f50e763a2]\n#36 in /home/gondelcha/anaconda3/envs/rapids-0.18/bin/python(+0x1925da) [0x557f50e375da]\n#37 in /home/gondelcha/anaconda3/envs/rapids-0.18/bin/python(+0x128d4b) [0x557f50dcdd4b]\n#38 in /home/gondelcha/anaconda3/envs/rapids-0.18/bin/python(+0x13b3ea) [0x557f50de03ea]\n#39 in /home/gondelcha/anaconda3/envs/rapids-0.18/bin/python(+0x21da4f) [0x557f50ec2a4f]\n#40 in /home/gondelcha/anaconda3/envs/rapids-0.18/bin/python(+0x128fc2) [0x557f50dcdfc2]\n#41 in /home/gondelcha/anaconda3/envs/rapids-0.18/bin/python(_PyEval_EvalFrameDefault+0x92f) [0x557f50e7554f]\n#42 in /home/gondelcha/anaconda3/envs/rapids-0.18/bin/python(_PyEval_EvalCodeWithName+0x2c3) [0x557f50e55503]\n#43 in /home/gondelcha/anaconda3/envs/rapids-0.18/bin/python(_PyFunction_Vectorcall+0x378) [0x557f50e568d8]\n#44 in /home/gondelcha/anaconda3/envs/rapids-0.18/bin/python(_PyEval_EvalFrameDefault+0xa4b) [0x557f50e7566b]\n#45 in /home/gondelcha/anaconda3/envs/rapids-0.18/bin/python(+0x1925da) [0x557f50e375da]\n#46 in /home/gondelcha/anaconda3/envs/rapids-0.18/bin/python(+0x128d4b) [0x557f50dcdd4b]\n#47 in /home/gondelcha/anaconda3/envs/rapids-0.18/bin/python(+0x13b3ea) [0x557f50de03ea]\n#48 in /home/gondelcha/anaconda3/envs/rapids-0.18/bin/python(+0x21da4f) [0x557f50ec2a4f]\n#49 in /home/gondelcha/anaconda3/envs/rapids-0.18/bin/python(+0x128fc2) [0x557f50dcdfc2]\n#50 in /home/gondelcha/anaconda3/envs/rapids-0.18/bin/python(_PyEval_EvalFrameDefault+0x92f) [0x557f50e7554f]\n#51 in /home/gondelcha/anaconda3/envs/rapids-0.18/bin/python(_PyEval_EvalCodeWithName+0x2c3) [0x557f50e55503]\n#52 in /home/gondelcha/anaconda3/envs/rapids-0.18/bin/python(+0x1b2007) [0x557f50e57007]\n#53 in /home/gondelcha/anaconda3/envs/rapids-0.18/bin/python(_PyEval_EvalFrameDefault+0x92f) [0x557f50e7554f]\n#54 in /home/gondelcha/anaconda3/envs/rapids-0.18/bin/python(+0x1925da) [0x557f50e375da]\n#55 in /home/gondelcha/anaconda3/envs/rapids-0.18/bin/python(+0x128d4b) [0x557f50dcdd4b]\n#56 in /home/gondelcha/anaconda3/envs/rapids-0.18/bin/python(+0x13b3ea) [0x557f50de03ea]\n#57 in /home/gondelcha/anaconda3/envs/rapids-0.18/bin/python(+0x21da4f) [0x557f50ec2a4f]\n#58 in /home/gondelcha/anaconda3/envs/rapids-0.18/bin/python(+0x128fc2) [0x557f50dcdfc2]\n#59 in /home/gondelcha/anaconda3/envs/rapids-0.18/bin/python(_PyEval_EvalFrameDefault+0x92f) [0x557f50e7554f]\n#60 in /home/gondelcha/anaconda3/envs/rapids-0.18/bin/python(_PyEval_EvalCodeWithName+0x2c3) [0x557f50e55503]\n#61 in /home/gondelcha/anaconda3/envs/rapids-0.18/bin/python(_PyFunction_Vectorcall+0x378) [0x557f50e568d8]\n#62 in /home/gondelcha/anaconda3/envs/rapids-0.18/bin/python(+0x1b1f91) [0x557f50e56f91]\n#63 in /home/gondelcha/anaconda3/envs/rapids-0.18/bin/python(PyObject_Call+0x5e) [0x557f50dca0be]\n"
     ]
    }
   ],
   "source": [
    "X = cp.random.normal(size=(5406,4)).astype(np.float32)\n",
    "y = cp.random.randint(2,size=(5406,1)).astype(np.int32)\n",
    "\n",
    "cuml_model = RandomForestClassifier(max_features=1.0,\n",
    "                   n_bins=8,\n",
    "                   n_estimators=40)\n",
    "\n",
    "x_train, x_test, y_train, y_test  = cuml.train_test_split(X, y, train_size=0.9)\n",
    "\n",
    "cuml_model.fit(x_train,y_train)\n",
    "cuml_predict = cuml_model.predict(x_test)\n",
    "\n",
    "print(\"Predicted labels : \", cuml_predict[0:10])\n",
    "print(\"Real : \", y_test[0:10])"
   ]
  },
  {
   "cell_type": "markdown",
   "metadata": {},
   "source": [
    "# Otras técnicas soportadas por RAPIDS (en progreso)"
   ]
  },
  {
   "cell_type": "markdown",
   "metadata": {},
   "source": [
    "Clasificación y regresión mediante SGD/MiniBatch SGD (Stochastic Gradient Descent)\n",
    "\n",
    "- Entrenan aparentemente de manera correcta, pero las predicciones siempre llegan vacías."
   ]
  },
  {
   "cell_type": "raw",
   "metadata": {},
   "source": [
    "model = MBSGDClassifier(learning_rate='constant', eta0=0.05, epochs=2000, fit_intercept=True, batch_size=1, tol=0.0, penalty='l2', loss='squared_loss', alpha=0.5) #todo 0\n",
    "model = MBSGDRegressor(learning_rate='constant', eta0=0.05, epochs=2000, fit_intercept=True, batch_size=1, tol=0.0, penalty='l2', loss='squared_loss', alpha=0.5) #todo NaN\n",
    "model = cuml.SGD(learning_rate='constant', eta0=0.005, epochs=2000, fit_intercept=True, batch_size=2,tol=0.0, penalty='none', loss='squared_loss') #todo NaN"
   ]
  },
  {
   "cell_type": "markdown",
   "metadata": {},
   "source": [
    "Clasificador multiclase\n",
    "\n",
    "- Devuelve errores 'L-BFGS line search failed' - posible error de memoria o de entrada de datos"
   ]
  },
  {
   "cell_type": "raw",
   "metadata": {},
   "source": [
    "model = MulticlassClassifier(LogisticRegression(), strategy='ovo')"
   ]
  },
  {
   "cell_type": "markdown",
   "metadata": {},
   "source": [
    "Naive Bayes multinomial"
   ]
  },
  {
   "cell_type": "raw",
   "metadata": {},
   "source": [
    "model = MultinomialNB() #todo 0"
   ]
  },
  {
   "cell_type": "markdown",
   "metadata": {},
   "source": [
    "Clasificación multiclase mediante conjunto Random Forest"
   ]
  },
  {
   "cell_type": "code",
   "execution_count": null,
   "metadata": {},
   "outputs": [],
   "source": [
    "model = RandomForestClassifier(max_features=1.0, n_bins=8, n_estimators=40) #categorías deben ser consecutivas"
   ]
  },
  {
   "cell_type": "markdown",
   "metadata": {},
   "source": [
    "Regresión mediante algoritmos Quasi-Newton"
   ]
  },
  {
   "cell_type": "code",
   "execution_count": null,
   "metadata": {},
   "outputs": [],
   "source": [
    "model = cuml.QN(loss='softmax') #OK pero no ideal"
   ]
  },
  {
   "cell_type": "markdown",
   "metadata": {},
   "source": [
    "Clasificación mediante soporte de vectores SVC (C-Support Vector Classification)"
   ]
  },
  {
   "cell_type": "code",
   "execution_count": null,
   "metadata": {},
   "outputs": [],
   "source": [
    "model = SVC(kernel='poly', degree=2, gamma='auto', C=1) #error de memoria"
   ]
  },
  {
   "cell_type": "code",
   "execution_count": null,
   "metadata": {},
   "outputs": [],
   "source": []
  }
 ],
 "metadata": {
  "kernelspec": {
   "display_name": "Python 3",
   "language": "python",
   "name": "python3"
  },
  "language_info": {
   "codemirror_mode": {
    "name": "ipython",
    "version": 3
   },
   "file_extension": ".py",
   "mimetype": "text/x-python",
   "name": "python",
   "nbconvert_exporter": "python",
   "pygments_lexer": "ipython3",
   "version": "3.8.8"
  }
 },
 "nbformat": 4,
 "nbformat_minor": 4
}
