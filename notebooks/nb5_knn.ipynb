{
 "cells": [
  {
   "cell_type": "markdown",
   "metadata": {},
   "source": [
    "# Carga y tratado de datos"
   ]
  },
  {
   "cell_type": "code",
   "execution_count": null,
   "metadata": {},
   "outputs": [],
   "source": [
    "import os\n",
    "import os.path\n",
    "\n",
    "import cudf\n",
    "import cupy as cp\n",
    "import cuml\n",
    "\n",
    "import pandas as pd\n",
    "import numpy as np\n",
    "from sklearn.neighbors import NearestNeighbors\n",
    "\n",
    "%run ../utils/f_northing.py\n",
    "%run ../utils/f_northing_numpy.py\n",
    "\n",
    "#cities_to_use = ['sevilla']\n",
    "#cities_to_use = ['shanghai']\n",
    "cities_to_use = ['amsterdam', 'antwerp', 'asheville', 'athens', 'austin', 'bangkok', 'barcelona', 'barossa valley',\n",
    "                 'barwon south west', 'beijing', 'belize', 'bergamo', 'berlin', 'bologna', 'bordeaux', 'boston', \n",
    "                 'sevilla', 'shanghai']\n",
    "\n",
    "columns_to_use = ['id', 'host_id', 'host_response_rate', 'host_acceptance_rate',\n",
    "                  'latitude', 'longitude', 'accommodates', 'price', 'number_of_reviews', 'reviews_per_month',\n",
    "                 'neighbourhood_cleansed']"
   ]
  },
  {
   "cell_type": "code",
   "execution_count": null,
   "metadata": {},
   "outputs": [],
   "source": [
    "%%time\n",
    "listings = cudf.DataFrame()\n",
    "\n",
    "for city in cities_to_use:\n",
    "    directory = '../data/' + city + '/'\n",
    "    if os.path.exists(directory):\n",
    "        for file in os.listdir(directory):\n",
    "            if file.endswith('.csv'):\n",
    "                temp_df = cudf.read_csv(directory + file, usecols = columns_to_use)\n",
    "                if 'price' in temp_df.columns:\n",
    "                    if(temp_df['host_acceptance_rate'].dtype != 'object'):\n",
    "                        temp_df['host_acceptance_rate'] = temp_df['host_acceptance_rate'].astype('object')\n",
    "                    if(temp_df['neighbourhood_cleansed'].dtype != 'object'):\n",
    "                        temp_df['neighbourhood_cleansed'] = temp_df['neighbourhood_cleansed'].astype('object')\n",
    "                    if listings.size == 0:\n",
    "                        listings = temp_df\n",
    "                    else:\n",
    "                        for column in listings.columns:\n",
    "                            if listings[column].dtype != temp_df[column].dtype:\n",
    "                                print('Found error: '+column+' type '+listings[column].dtype.name+' doesnt match '+temp_df[column].dtype.name)\n",
    "                        listings = listings.append(temp_df)\n",
    "                    \n",
    "listings = listings.drop_duplicates().reset_index(drop=True)\n",
    "\n",
    "listings['accommodates'] = listings['accommodates'].astype('int32')\n",
    "listings['number_of_reviews'] = listings['number_of_reviews'].astype('int32')\n",
    "listings['reviews_per_month'] = listings['reviews_per_month'].astype('float32').fillna(-1.0)\n",
    "listings['neighbourhood_cleansed'], neighborhood_names = listings['neighbourhood_cleansed'].factorize()\n",
    "\n",
    "listings['host_response_rate'] = listings['host_response_rate'].str.replace('%', '').fillna('-1').astype('int8')\n",
    "listings['host_acceptance_rate'] = listings['host_acceptance_rate'].str.replace('%', '').fillna('-1').astype('int8')\n",
    "listings['price'] = listings['price'].str.replace(['$', ','], '').astype('float32')\n",
    "\n",
    "cupy_lat = cp.asarray(listings['latitude'])\n",
    "cupy_long = cp.asarray(listings['longitude'])\n",
    "n_cupy_array, e_cupy_array = latlong2osgbgrid_cupy(cupy_lat, cupy_long)\n",
    "listings['northing'] = cudf.Series(n_cupy_array).astype('float32')\n",
    "listings['easting'] = cudf.Series(e_cupy_array).astype('float32')\n",
    "\n",
    "listings.head()"
   ]
  },
  {
   "cell_type": "markdown",
   "metadata": {},
   "source": [
    "# Aplicación de un algoritmo KNN para calcular distancias entre listados"
   ]
  },
  {
   "cell_type": "code",
   "execution_count": null,
   "metadata": {},
   "outputs": [],
   "source": [
    "%%time\n",
    "knn = cuml.NearestNeighbors(n_neighbors=3)\n",
    "listings_cheap = listings[listings['price'] <= 50.0].reset_index(drop=True)\n",
    "listings_expensive = listings[listings['price'] >= 100.0].reset_index(drop=True)\n",
    "listings_cheap_cols = listings_cheap[['price', 'easting', 'northing']]\n",
    "listings_expensive_cols = listings_expensive[['price', 'easting', 'northing']]\n",
    "knn.fit(listings_cheap_cols)\n",
    "distances, indices = knn.kneighbors(listings_expensive_cols, 3)"
   ]
  },
  {
   "cell_type": "code",
   "execution_count": null,
   "metadata": {},
   "outputs": [],
   "source": [
    "distances"
   ]
  },
  {
   "cell_type": "code",
   "execution_count": null,
   "metadata": {},
   "outputs": [],
   "source": [
    "indices"
   ]
  },
  {
   "cell_type": "markdown",
   "metadata": {},
   "source": [
    "# Sección 2: KNN mediante CPU"
   ]
  },
  {
   "cell_type": "markdown",
   "metadata": {},
   "source": [
    "## Carga y tratado de datos"
   ]
  },
  {
   "cell_type": "code",
   "execution_count": null,
   "metadata": {},
   "outputs": [],
   "source": [
    "%%time\n",
    "listings_cpu = pd.DataFrame()\n",
    "\n",
    "for city in cities_to_use:\n",
    "    directory = '../data/' + city + '/'\n",
    "    if os.path.exists(directory):\n",
    "        for file in os.listdir(directory):\n",
    "            if file.endswith('.csv'):\n",
    "                temp_df_cpu = pd.read_csv(directory + file, usecols = columns_to_use)\n",
    "                if 'price' in temp_df_cpu.columns:\n",
    "                    if(temp_df_cpu['host_acceptance_rate'].dtype != 'object'):\n",
    "                        temp_df_cpu['host_acceptance_rate'] = temp_df_cpu['host_acceptance_rate'].astype('object')\n",
    "                    if(temp_df_cpu['neighbourhood_cleansed'].dtype != 'object'):\n",
    "                        temp_df_cpu['neighbourhood_cleansed'] = temp_df_cpu['neighbourhood_cleansed'].astype('object')\n",
    "                    if listings_cpu.size == 0:\n",
    "                        listings_cpu = temp_df_cpu\n",
    "                    else:\n",
    "                        for column in listings_cpu.columns:\n",
    "                            if listings_cpu[column].dtype != temp_df_cpu[column].dtype:\n",
    "                                print('Found error: '+column+' type '+listings_cpu[column].dtype.name+' doesnt match '+temp_df_cpu[column].dtype.name)\n",
    "                        listings_cpu = listings_cpu.append(temp_df_cpu)\n",
    "                    \n",
    "listings_cpu = listings_cpu.drop_duplicates().reset_index(drop=True)\n",
    "\n",
    "listings_cpu['accommodates'] = listings_cpu['accommodates'].astype('int32')\n",
    "listings_cpu['number_of_reviews'] = listings_cpu['number_of_reviews'].astype('int32')\n",
    "listings_cpu['reviews_per_month'] = listings_cpu['reviews_per_month'].astype('float32').fillna(-1.0)\n",
    "listings_cpu['neighbourhood_cleansed'], neighborhood_names = listings_cpu['neighbourhood_cleansed'].factorize()\n",
    "\n",
    "listings_cpu['host_response_rate'] = listings_cpu['host_response_rate'].fillna('-1').str.replace('%', '').astype('int32')\n",
    "listings_cpu['host_acceptance_rate'] = listings_cpu['host_acceptance_rate'].fillna('-1').str.replace('%', '').astype('int32')\n",
    "listings_cpu['price'] = listings_cpu['price'].fillna('-1').str.replace('$', '').str.replace(',', '').astype('float32')\n",
    "\n",
    "numpy_lat = listings_cpu['latitude'].to_numpy()\n",
    "numpy_long = listings_cpu['longitude'].to_numpy()\n",
    "n_numpy_array, e_numpy_array = latlong2osgbgrid_numpy(numpy_lat, numpy_long)\n",
    "listings_cpu['northing'] = pd.Series(n_numpy_array).astype('float32')\n",
    "listings_cpu['easting'] = pd.Series(e_numpy_array).astype('float32')\n",
    "listings_cpu.head()"
   ]
  },
  {
   "cell_type": "markdown",
   "metadata": {},
   "source": [
    "# Aplicación de KNN"
   ]
  },
  {
   "cell_type": "code",
   "execution_count": null,
   "metadata": {},
   "outputs": [],
   "source": [
    "%%time\n",
    "knn_cpu = NearestNeighbors(n_neighbors=3)\n",
    "listings_cheap_cpu = listings_cpu[listings_cpu['price'] <= 50.0].reset_index(drop=True)\n",
    "listings_expensive_cpu = listings_cpu[listings_cpu['price'] >= 100.0].reset_index(drop=True)\n",
    "listings_cheap_cols_cpu = listings_cheap_cpu[['price', 'easting', 'northing']]\n",
    "listings_expensive_cols_cpu = listings_expensive_cpu[['price', 'easting', 'northing']]\n",
    "knn_cpu.fit(listings_cheap_cols_cpu)\n",
    "distances_cpu, indices_cpu = knn_cpu.kneighbors(listings_expensive_cols_cpu, 3)"
   ]
  },
  {
   "cell_type": "code",
   "execution_count": null,
   "metadata": {},
   "outputs": [],
   "source": [
    "distances_cpu"
   ]
  },
  {
   "cell_type": "code",
   "execution_count": null,
   "metadata": {},
   "outputs": [],
   "source": [
    "indices_cpu"
   ]
  },
  {
   "cell_type": "code",
   "execution_count": null,
   "metadata": {},
   "outputs": [],
   "source": []
  }
 ],
 "metadata": {
  "kernelspec": {
   "display_name": "Python 3",
   "language": "python",
   "name": "python3"
  },
  "language_info": {
   "codemirror_mode": {
    "name": "ipython",
    "version": 3
   },
   "file_extension": ".py",
   "mimetype": "text/x-python",
   "name": "python",
   "nbconvert_exporter": "python",
   "pygments_lexer": "ipython3",
   "version": "3.8.6"
  }
 },
 "nbformat": 4,
 "nbformat_minor": 4
}
